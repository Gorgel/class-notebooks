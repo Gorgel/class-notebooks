{
 "cells": [
  {
   "cell_type": "code",
   "execution_count": 138,
   "metadata": {},
   "outputs": [],
   "source": [
    "# import av lite pythonbibliotek som används till beräkningarna.\n",
    "import numpy as np\n",
    "import astropy.constants as acon\n",
    "import scipy.constants as con"
   ]
  },
  {
   "cell_type": "markdown",
   "metadata": {},
   "source": [
    "# Universums struktur och olika skalor"
   ]
  },
  {
   "cell_type": "markdown",
   "metadata": {},
   "source": [
    "## Ljusår\n",
    "\n",
    "Hur långt färdas ljuset på en sekund?\n",
    "\n",
    "$c = 299792458 \\frac{m}{s}$\n",
    "\n",
    "Hur många varv runt jorden är det på en sekund?\n",
    "\n",
    "Jordens radie är $R_j = 6371 km =6371000 m$\n",
    "\n",
    "Jordens omkrets blir då $J_o = 2 \\pi R_j$"
   ]
  },
  {
   "cell_type": "code",
   "execution_count": 139,
   "metadata": {},
   "outputs": [
    {
     "data": {
      "text/plain": [
       "40030173.59204114"
      ]
     },
     "execution_count": 139,
     "metadata": {},
     "output_type": "execute_result"
    }
   ],
   "source": [
    "# hämtar värdet på pi och sparar i variabeln pi\n",
    "pi = np.pi\n",
    "Rj = 6371e3\n",
    "Jo = 2*pi*Rj\n",
    "Jo"
   ]
  },
  {
   "cell_type": "markdown",
   "metadata": {},
   "source": [
    "$J_o = 40030173.5 m$\n",
    "\n",
    "Antal varv blir då $\\frac{c}{J_o}$"
   ]
  },
  {
   "cell_type": "code",
   "execution_count": 140,
   "metadata": {},
   "outputs": [
    {
     "data": {
      "text/plain": [
       "7.489162076968989"
      ]
     },
     "execution_count": 140,
     "metadata": {},
     "output_type": "execute_result"
    }
   ],
   "source": [
    "c = 299792458\n",
    "c/Jo"
   ]
  },
  {
   "cell_type": "markdown",
   "metadata": {},
   "source": [
    "Antal varv = 7.48\n",
    "\n",
    "Vad är då ett ljusår? Ett ljusår är så långt ljuset hunnit färdas på ett år.\n",
    "\n",
    "På ett år går det 365.25 dagar. 1 dag är 24 timmar. 1 timme är 60 min. 1 min är 60 sek. Antal sekunder på ett år blir då"
   ]
  },
  {
   "cell_type": "code",
   "execution_count": 141,
   "metadata": {},
   "outputs": [
    {
     "data": {
      "text/plain": [
       "31557600.0"
      ]
     },
     "execution_count": 141,
     "metadata": {},
     "output_type": "execute_result"
    }
   ],
   "source": [
    "# ysek = antal sekunder på ett år\n",
    "ysek = 365.25*24*60*60\n",
    "ysek"
   ]
  },
  {
   "cell_type": "markdown",
   "metadata": {},
   "source": [
    "Sekunder på ett år = 31557600 s\n",
    "\n",
    "Avståndet ljuset färdas på ett år blir då $c \\cdot y_{sek}$"
   ]
  },
  {
   "cell_type": "code",
   "execution_count": 142,
   "metadata": {},
   "outputs": [
    {
     "data": {
      "text/plain": [
       "9460730472580800.0"
      ]
     },
     "execution_count": 142,
     "metadata": {},
     "output_type": "execute_result"
    }
   ],
   "source": [
    "c*ysek"
   ]
  },
  {
   "cell_type": "markdown",
   "metadata": {},
   "source": [
    "Ett ljusår defineras därför som _$1ly = 9460730472580800m$_ eller ungefär $9.46 \\cdot 10^{12} km$"
   ]
  },
  {
   "cell_type": "markdown",
   "metadata": {},
   "source": [
    "## Jorden till månen"
   ]
  },
  {
   "cell_type": "markdown",
   "metadata": {},
   "source": [
    "Avståndet från jorden till månen är ca $D_m = 384000000 m = 384000 km$"
   ]
  },
  {
   "cell_type": "markdown",
   "metadata": {},
   "source": [
    "<img src=\"earth_to_moon.png\" alt=\"drawing\" width=\"700\"/>"
   ]
  },
  {
   "cell_type": "markdown",
   "metadata": {},
   "source": [
    "### Övning\n",
    "1) Hur lång tid tar det för ljuset att åka från jorden, till månen och tillbaka?\n",
    "\n",
    "2) Hur många resor runt jorden motsvarar det att åka till månen?\n",
    "\n",
    "3) Om jorden skulle ha samma diameter som en fotboll 22cm hur långt bort skulle månen befinna sig då? Om vi antar samma skalor."
   ]
  },
  {
   "cell_type": "markdown",
   "metadata": {},
   "source": [
    "### Lösning"
   ]
  },
  {
   "cell_type": "markdown",
   "metadata": {},
   "source": [
    "1)"
   ]
  },
  {
   "cell_type": "code",
   "execution_count": 143,
   "metadata": {},
   "outputs": [
    {
     "data": {
      "text/plain": [
       "2.5617722511218077"
      ]
     },
     "execution_count": 143,
     "metadata": {},
     "output_type": "execute_result"
    }
   ],
   "source": [
    "# Dm = avstånd till månen i meter\n",
    "Dm = 384000e3\n",
    "t = Dm/c\n",
    "# vi tar två gånger t eftersom vi är intresserade av ersan till månen och tilbaka\n",
    "2*t"
   ]
  },
  {
   "cell_type": "markdown",
   "metadata": {},
   "source": [
    "Det tar alltså ca 2.5 sekunder att skicka en signal fram och tillbaka från jorden till månen."
   ]
  },
  {
   "cell_type": "markdown",
   "metadata": {},
   "source": [
    "2)"
   ]
  },
  {
   "cell_type": "code",
   "execution_count": 144,
   "metadata": {},
   "outputs": [
    {
     "data": {
      "text/plain": [
       "9.592763796466459"
      ]
     },
     "execution_count": 144,
     "metadata": {},
     "output_type": "execute_result"
    }
   ],
   "source": [
    "Dm/(2*pi*Rj)"
   ]
  },
  {
   "cell_type": "markdown",
   "metadata": {},
   "source": [
    "Att åka till månen innebär alltså att man skulle behöva åka ca 9.6 resor runt jorden"
   ]
  },
  {
   "cell_type": "markdown",
   "metadata": {},
   "source": [
    "3)"
   ]
  },
  {
   "cell_type": "code",
   "execution_count": 145,
   "metadata": {},
   "outputs": [
    {
     "data": {
      "text/plain": [
       "30.13655627060116"
      ]
     },
     "execution_count": 145,
     "metadata": {},
     "output_type": "execute_result"
    }
   ],
   "source": [
    "# jordens diameter = 2*Rj\n",
    "# vi får en skalfaktor som vi kallar faktor\n",
    "faktor = Dm/(2*Rj)\n",
    "faktor"
   ]
  },
  {
   "cell_type": "code",
   "execution_count": 146,
   "metadata": {},
   "outputs": [
    {
     "data": {
      "text/plain": [
       "6.630042379532256"
      ]
     },
     "execution_count": 146,
     "metadata": {},
     "output_type": "execute_result"
    }
   ],
   "source": [
    "# Bd = Bollens diameter (diametern på en fotboll är 22cm)\n",
    "Bd = 22e-2\n",
    "\n",
    "# multiplicera bollens diameter med faktorn\n",
    "Bd*faktor"
   ]
  },
  {
   "cell_type": "markdown",
   "metadata": {},
   "source": [
    "Månen skulle alltså befinna sig 6.6 meter från bollen"
   ]
  },
  {
   "cell_type": "markdown",
   "metadata": {},
   "source": [
    "## Jorden till solen"
   ]
  },
  {
   "cell_type": "markdown",
   "metadata": {},
   "source": [
    "$D_s = 149597870700 m = 1.4959787 \\cdot 10^{11} m$"
   ]
  },
  {
   "cell_type": "markdown",
   "metadata": {},
   "source": [
    "<img src=\"sun_earth.jpg\" alt=\"drawing\" width=\"700\"/>"
   ]
  },
  {
   "cell_type": "markdown",
   "metadata": {},
   "source": [
    "### Övning"
   ]
  },
  {
   "cell_type": "markdown",
   "metadata": {},
   "source": [
    "1) Hur många resor runt jorden motsvarar det att åka till solen?\n",
    "\n",
    "2) Om jorden hade samma diameter so en fotboll, hur långt bort skulle solen befinna sig då. Om vi antar samma skalor.\n",
    "\n",
    "3) Hur stor diameter skulle solen ha då?\n",
    "\n",
    "4) Hur många jordklot får man plats med innuti solen?\n"
   ]
  },
  {
   "cell_type": "markdown",
   "metadata": {},
   "source": [
    "### Lösningar"
   ]
  },
  {
   "cell_type": "markdown",
   "metadata": {},
   "source": [
    "1)"
   ]
  },
  {
   "cell_type": "code",
   "execution_count": 147,
   "metadata": {},
   "outputs": [
    {
     "data": {
      "text/plain": [
       "3737.1276858450415"
      ]
     },
     "execution_count": 147,
     "metadata": {},
     "output_type": "execute_result"
    }
   ],
   "source": [
    "#Ds = avstånd till solen från jorden i meter\n",
    "# Jo = Jordens omkrets som vi definerade i förra uppgiften\n",
    "Ds = 1.4959787e11\n",
    "Ds/Jo"
   ]
  },
  {
   "cell_type": "markdown",
   "metadata": {},
   "source": [
    "Det skulle alltså ta ca 3737 resor runt jorden för att komma fram till solen!"
   ]
  },
  {
   "cell_type": "markdown",
   "metadata": {},
   "source": [
    "2)"
   ]
  },
  {
   "cell_type": "code",
   "execution_count": 148,
   "metadata": {},
   "outputs": [
    {
     "data": {
      "text/plain": [
       "11740.532883377806"
      ]
     },
     "execution_count": 148,
     "metadata": {},
     "output_type": "execute_result"
    }
   ],
   "source": [
    "# Jd = jordens diameter\n",
    "Jd = 2*Rj\n",
    "faktor = (Ds/Dj)\n",
    "faktor"
   ]
  },
  {
   "cell_type": "code",
   "execution_count": 149,
   "metadata": {},
   "outputs": [
    {
     "data": {
      "text/plain": [
       "2582.9172343431173"
      ]
     },
     "execution_count": 149,
     "metadata": {},
     "output_type": "execute_result"
    }
   ],
   "source": [
    "# Bd = bollens diameter\n",
    "Bd*faktor"
   ]
  },
  {
   "cell_type": "markdown",
   "metadata": {},
   "source": [
    "Om jorden var stor som en fotboll skulle solen ligga ca 2.5km bort. Så om bollen är i klassrummet skulle solen ligga ungefär i Tullinge centrum.\n"
   ]
  },
  {
   "cell_type": "markdown",
   "metadata": {},
   "source": [
    "3)"
   ]
  },
  {
   "cell_type": "code",
   "execution_count": 150,
   "metadata": {},
   "outputs": [
    {
     "data": {
      "text/plain": [
       "24.023544184586406"
      ]
     },
     "execution_count": 150,
     "metadata": {},
     "output_type": "execute_result"
    }
   ],
   "source": [
    "# Rs = Radien för solen\n",
    "faktor = 2*Rs/(2*Rj)\n",
    "Bd*faktor"
   ]
  },
  {
   "cell_type": "markdown",
   "metadata": {},
   "source": [
    "Om jordens diameter är stor som en fotboll, dvs 22cm, så skulle solen i Tullinge centrum vara stor som en sfär med 24 meters diameter"
   ]
  },
  {
   "cell_type": "markdown",
   "metadata": {},
   "source": [
    "4) Volymen för ett klot är $V = \\frac{4 \\pi r^3}{3}$"
   ]
  },
  {
   "cell_type": "code",
   "execution_count": 151,
   "metadata": {},
   "outputs": [
    {
     "data": {
      "text/plain": [
       "1302096.5698420107"
      ]
     },
     "execution_count": 151,
     "metadata": {},
     "output_type": "execute_result"
    }
   ],
   "source": [
    "# Jv = Jordens volym\n",
    "Jv = 4*pi*(Rj**3)/3\n",
    "\n",
    "# Rs = solens radie\n",
    "Rs = 6.95700e8 \n",
    "\n",
    "# Sv = Solens volym\n",
    "Sv = 4*pi*(Rs**3)/3\n",
    "Sv/Jv"
   ]
  },
  {
   "cell_type": "markdown",
   "metadata": {},
   "source": [
    "Det får alltså plats 1.3 miljoner jordklot innuti solens volym."
   ]
  },
  {
   "cell_type": "markdown",
   "metadata": {},
   "source": [
    "### Astronomisk enhet (AU)\n",
    "\n",
    "För att lättare kunna hantera avstånden i solsystemet använder vi avståndet mellan solen och jorden som ett standardmått.\n",
    "\n",
    "Vi definerar därför en astronomisk enhet som $1AU = 149597870700 m = 1.4959787 \\cdot 10^{11} m$"
   ]
  },
  {
   "cell_type": "markdown",
   "metadata": {},
   "source": [
    "## Solsystemet"
   ]
  },
  {
   "cell_type": "markdown",
   "metadata": {},
   "source": [
    "I den här bilden är skalorna inte korrekt. Det är mycket större avstånd mellan alla objekt än hur det ser ut i bilden. Men värdena på axlarna ger korrekta avstånd numeriskt."
   ]
  },
  {
   "cell_type": "markdown",
   "metadata": {},
   "source": [
    "<img src=\"solar_system.png\" alt=\"drawing\" width=\"1200\"/>"
   ]
  },
  {
   "cell_type": "markdown",
   "metadata": {},
   "source": [
    "Hur många Astronomiska enheter går det på ett ljusår?"
   ]
  },
  {
   "cell_type": "code",
   "execution_count": 152,
   "metadata": {},
   "outputs": [
    {
     "data": {
      "text/plain": [
       "149597870000.0"
      ]
     },
     "execution_count": 152,
     "metadata": {},
     "output_type": "execute_result"
    }
   ],
   "source": [
    "# en astronomisk enhet AU är avståndet till solen\n",
    "AU = Ds\n",
    "AU"
   ]
  },
  {
   "cell_type": "code",
   "execution_count": 153,
   "metadata": {},
   "outputs": [
    {
     "data": {
      "text/plain": [
       "9460730472580800.0"
      ]
     },
     "execution_count": 153,
     "metadata": {},
     "output_type": "execute_result"
    }
   ],
   "source": [
    "# ly = avståndet ljusår i meter\n",
    "ly = c*ysek\n",
    "ly"
   ]
  },
  {
   "cell_type": "code",
   "execution_count": 154,
   "metadata": {},
   "outputs": [
    {
     "data": {
      "text/plain": [
       "63241.07738018462"
      ]
     },
     "execution_count": 154,
     "metadata": {},
     "output_type": "execute_result"
    }
   ],
   "source": [
    "ly/AU"
   ]
  },
  {
   "cell_type": "markdown",
   "metadata": {},
   "source": [
    "Det går 63241 AU på ett ly"
   ]
  },
  {
   "cell_type": "markdown",
   "metadata": {},
   "source": [
    "## Oorts kometmoln"
   ]
  },
  {
   "cell_type": "markdown",
   "metadata": {},
   "source": [
    "<img src=\"oort-cloud.jpg\" alt=\"drawing\" width=\"1200\"/>"
   ]
  },
  {
   "cell_type": "markdown",
   "metadata": {},
   "source": [
    "## Interstellära grannskapet"
   ]
  },
  {
   "cell_type": "markdown",
   "metadata": {},
   "source": [
    "<img src=\"solar_neighborhood.png\" alt=\"drawing\" width=\"900\"/>"
   ]
  },
  {
   "cell_type": "markdown",
   "metadata": {},
   "source": [
    "Alfa centauri ligger 4.37 ly från solen och är vår närmaste grannstjärna"
   ]
  },
  {
   "cell_type": "markdown",
   "metadata": {},
   "source": [
    "## Vintergatan (Milky way)"
   ]
  },
  {
   "cell_type": "markdown",
   "metadata": {},
   "source": [
    "<img src=\"milky_way.png\" alt=\"drawing\" width=\"1000\"/>"
   ]
  },
  {
   "cell_type": "markdown",
   "metadata": {},
   "source": [
    "## Lokala galaxghopen"
   ]
  },
  {
   "cell_type": "markdown",
   "metadata": {},
   "source": [
    "\n",
    "<img src=\"local_group.png\" alt=\"drawing\" width=\"900\"/>"
   ]
  },
  {
   "cell_type": "markdown",
   "metadata": {},
   "source": [
    "Avståndet mellan vintergatan och andromedagalaxen är ca 2.5 Mly"
   ]
  },
  {
   "cell_type": "markdown",
   "metadata": {},
   "source": [
    "## Hubble Deep field"
   ]
  },
  {
   "cell_type": "markdown",
   "metadata": {},
   "source": [
    "Hubbleteleskopet zoomade in på den lila vita rutan bredvid texten \"XDF\" och tog en bild med lång exponeringstid, dvs den samlade in allt ljus från området under en längre tid. Resultatet kan ni se på bilden nedan."
   ]
  },
  {
   "cell_type": "markdown",
   "metadata": {},
   "source": [
    "\n",
    "<img src=\"hubble_deep_moon.jpg\" alt=\"drawing\" width=\"900\"/>"
   ]
  },
  {
   "cell_type": "markdown",
   "metadata": {},
   "source": [
    "De flesta ljuspunkter i den här bilden är en galax. Ljuset som vi ser är det samlade ljuset från alla de miljardtals stjärnor som finns i varje galax."
   ]
  },
  {
   "cell_type": "markdown",
   "metadata": {},
   "source": [
    "\n",
    "<img src=\"hubble_deep.jpg\" alt=\"drawing\" width=\"900\"/>"
   ]
  },
  {
   "cell_type": "markdown",
   "metadata": {},
   "source": [
    "## laniakea superkluster"
   ]
  },
  {
   "cell_type": "markdown",
   "metadata": {},
   "source": [
    "\n",
    "<img src=\"laniakea_supercluster.png\" alt=\"drawing\" width=\"1000\"/>"
   ]
  },
  {
   "cell_type": "markdown",
   "metadata": {},
   "source": [
    "## lokala superclustren"
   ]
  },
  {
   "cell_type": "markdown",
   "metadata": {},
   "source": [
    "\n",
    "<img src=\"local_superclusters.jpg\" alt=\"drawing\" width=\"1000\"/>"
   ]
  },
  {
   "cell_type": "markdown",
   "metadata": {},
   "source": [
    "## Observerbara universum"
   ]
  },
  {
   "cell_type": "markdown",
   "metadata": {},
   "source": [
    "\n",
    "<img src=\"observable_universe.jpg\" alt=\"drawing\" width=\"1000\"/>"
   ]
  },
  {
   "cell_type": "code",
   "execution_count": null,
   "metadata": {},
   "outputs": [],
   "source": []
  }
 ],
 "metadata": {
  "kernelspec": {
   "display_name": "Python 3",
   "language": "python",
   "name": "python3"
  },
  "language_info": {
   "codemirror_mode": {
    "name": "ipython",
    "version": 3
   },
   "file_extension": ".py",
   "mimetype": "text/x-python",
   "name": "python",
   "nbconvert_exporter": "python",
   "pygments_lexer": "ipython3",
   "version": "3.7.2"
  }
 },
 "nbformat": 4,
 "nbformat_minor": 2
}
